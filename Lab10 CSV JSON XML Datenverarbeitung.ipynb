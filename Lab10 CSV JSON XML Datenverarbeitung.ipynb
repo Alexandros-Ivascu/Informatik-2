{
 "cells": [
  {
   "cell_type": "markdown",
   "metadata": {
    "id": "tZA9vfPr0BHR"
   },
   "source": [
    "# INF2 11: Übung zu CSV-, JSON- und XML-Datenverarbeitung"
   ]
  },
  {
   "cell_type": "markdown",
   "metadata": {
    "id": "o919JRL13Tki"
   },
   "source": [
    "\n",
    "Aufgabenstellung  \n",
    "\n",
    "  - Erstellen Sie eine CSV-Datei *personen.csv* mit folgenden Spalten:  \n",
    "    Name, Alter, Beruf, Stadt\n",
    "  - Filtern Sie alle Personen, die mindestens 18 Jahre alt sind **und** in **Berlin** wohnen.\n",
    "  - Speichern Sie die gefilterten Einträge sortiert nach Alter in einer Datei *personen.json*.\n",
    "  - Erstellen Sie eine weitere Datei *namen_berufe.json*, in der nur Name und Beruf jeder gefilterten Person enthalten sind.\n",
    "  - Exportieren Sie die gefilterten Daten zusätzlich als XML-Datei *personen.xml*\n",
    "\n"
   ]
  },
  {
   "cell_type": "code",
   "execution_count": 20,
   "metadata": {
    "id": "1BX5zmZI1EWc"
   },
   "outputs": [],
   "source": [
    "import csv\n",
    "import json\n",
    "import xml.etree.ElementTree as ET\n",
    "\n",
    "# CSV-Datei erzeugen\n",
    "with open(\"personen.csv\", \"w\", newline=\"\", encoding=\"utf-8\") as f:\n",
    "    writer = csv.writer(f)\n",
    "    writer.writerow([\"Name\", \"Alter\", \"Beruf\", \"Stadt\"])\n",
    "    writer.writerow([\"Max\", 30, \"Ingenieur\", \"Berlin\"])\n",
    "    writer.writerow([\"Sophie\", 25, \"Lehrerin\", \"München\"])\n",
    "    writer.writerow([\"Lisa\", 15, \"Schülerin\", \"Berlin\"])\n",
    "    writer.writerow([\"Anna\", 19, \"Studentin\", \"Berlin\"])\n",
    "    writer.writerow([\"Tim\", 17, \"Schüler\", \"Hamburg\"])\n",
    "    writer.writerow([\"Laura\", 42, \"Ärztin\", \"Köln\"])\n",
    "    writer.writerow([\"Klaus\", 23, \"Student\", \"Berlin\"])"
   ]
  },
  {
   "cell_type": "code",
   "execution_count": 25,
   "metadata": {
    "id": "x1FEHI_G2SJt"
   },
   "outputs": [],
   "source": [
    "# Daten einlesen und filtern (Alter >= 18 und aus Berlin)\n",
    "personen = []\n",
    "with open(\"personen.csv\", \"r\", encoding=\"utf-8\") as f:\n",
    "    reader = csv.DictReader(f)\n",
    "    for zeile in reader:\n",
    "        if int(zeile[\"Alter\"]) >= 18 and zeile[\"Stadt\"] == \"Berlin\":\n",
    "            zeile[\"Alter\"] = int(zeile[\"Alter\"])\n",
    "            personen.append(zeile)"
   ]
  },
  {
   "cell_type": "code",
   "execution_count": 26,
   "metadata": {
    "id": "VbsvwsGl38Nw"
   },
   "outputs": [
    {
     "name": "stdout",
     "output_type": "stream",
     "text": [
      "Gefilterte Personen (Alter >= 18 und aus Berlin):\n",
      "{'Name': 'Max', 'Alter': 30, 'Beruf': 'Ingenieur', 'Stadt': 'Berlin'}\n",
      "{'Name': 'Anna', 'Alter': 19, 'Beruf': 'Studentin', 'Stadt': 'Berlin'}\n",
      "{'Name': 'Klaus', 'Alter': 23, 'Beruf': 'Student', 'Stadt': 'Berlin'}\n"
     ]
    }
   ],
   "source": [
    "# Ausgabe gefilterter Daten\n",
    "print(\"Gefilterte Personen (Alter >= 18 und aus Berlin):\")\n",
    "for p in personen:\n",
    "    print(p)"
   ]
  },
  {
   "cell_type": "code",
   "execution_count": 39,
   "metadata": {
    "id": "F4s2Uv_m39p1"
   },
   "outputs": [
    {
     "ename": "SyntaxError",
     "evalue": "invalid syntax (4148084520.py, line 2)",
     "output_type": "error",
     "traceback": [
      "\u001b[1;36m  Cell \u001b[1;32mIn[39], line 2\u001b[1;36m\u001b[0m\n\u001b[1;33m    personen_sortiert = sorted(personen[\"Alter\"], key=lambda)\u001b[0m\n\u001b[1;37m                                                            ^\u001b[0m\n\u001b[1;31mSyntaxError\u001b[0m\u001b[1;31m:\u001b[0m invalid syntax\n"
     ]
    }
   ],
   "source": [
    "# JSON-Datei mit sortierten Einträgen speichern (nach Alter)\n",
    "personen_sortiert = sorted(personen[\"Alter\"], key=lambda)\n",
    "with open(\"personen.json\", \"w\", encoding=\"utf-8\") as f:\n",
    "    json.dump (personen, f, indent=2)\n"
   ]
  },
  {
   "cell_type": "code",
   "execution_count": null,
   "metadata": {
    "id": "hSz-Fsih3_Ss"
   },
   "outputs": [],
   "source": [
    "# Nur Namen und Berufe extrahieren und als neue JSON-Datei speichern\n",
    "namen_berufe = [{\"Name\": p[\"Name\"], \"Beruf\": p[\"Beruf\"]} for p in personen_sortiert]\n",
    "\n",
    "# Speichern als \"namen_berufe.json\"\n",
    "# TODO"
   ]
  },
  {
   "cell_type": "code",
   "execution_count": null,
   "metadata": {
    "id": "v5mY8VnZ4AU1"
   },
   "outputs": [],
   "source": [
    "# XML-Export\n",
    "root = ET.Element(\"personen\")\n",
    "for p in personen_sortiert:\n",
    "    eintrag = ET.SubElement(root, \"person\")\n",
    "    # Attribute setzen\n",
    "    eintrag.set(\"name\", p[\"Name\"])\n",
    "    # TODO restliche Attribute\n",
    "\n",
    "ET.ElementTree(root).write(\"personen.xml\", encoding=\"utf-8\", xml_declaration=True)"
   ]
  },
  {
   "cell_type": "code",
   "execution_count": null,
   "metadata": {
    "id": "bXC_ja714B2-"
   },
   "outputs": [],
   "source": [
    "# XML anzeigen\n",
    "print(\"XML-Struktur:\")\n",
    "for p in root:\n",
    "    print(p.attrib)"
   ]
  }
 ],
 "metadata": {
  "colab": {
   "authorship_tag": "ABX9TyNdONXs7uAKI5Wsr5xHt2+/",
   "provenance": []
  },
  "kernelspec": {
   "display_name": "Python 3 (ipykernel)",
   "language": "python",
   "name": "python3"
  },
  "language_info": {
   "codemirror_mode": {
    "name": "ipython",
    "version": 3
   },
   "file_extension": ".py",
   "mimetype": "text/x-python",
   "name": "python",
   "nbconvert_exporter": "python",
   "pygments_lexer": "ipython3",
   "version": "3.12.7"
  }
 },
 "nbformat": 4,
 "nbformat_minor": 4
}
