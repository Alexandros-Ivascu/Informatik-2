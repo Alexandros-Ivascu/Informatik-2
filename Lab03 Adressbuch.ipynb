{
 "cells": [
  {
   "cell_type": "code",
   "execution_count": 1,
   "metadata": {
    "executionInfo": {
     "elapsed": 15,
     "status": "ok",
     "timestamp": 1743494119651,
     "user": {
      "displayName": "Tobias Schaffer",
      "userId": "09009542802022320095"
     },
     "user_tz": -120
    },
    "id": "LBHvzcgw3CQ8"
   },
   "outputs": [],
   "source": [
    "# Adressbuch-Programm\n",
    "\n",
    "# Das Adressbuch als Dictionary\n",
    "adressbuch = {}\n",
    "\n",
    "\n",
    "def eintrag_hinzufuegen():\n",
    "    \"\"\"TODO: Funktion zum Hinzufügen eines neuen Eintrags ergänzen\"\"\"\n",
    "    name = input(\"Name eingeben: \")\n",
    "    if name in adressbuch:\n",
    "        print (\"Eintrag bereits in Adressbuch vorhanden.\")\n",
    "        return\n",
    "    Telefon = input(\"Telefon\")\n",
    "    Email = input(\"E-Mail\")\n",
    "    adressbuch [name] = {\"Telefon\": Telefon, \"E-Mail\": Email}\n",
    "    print(f\"Eintrag {name} wurde hinzugefügt.\")\n",
    "\n",
    "def eintrag_suchen():\n",
    "    \"\"\"Funktion zur Suche eines Eintrags\"\"\"\n",
    "    name = input(\"Geben Sie den Namen ein, den Sie suchen: \")\n",
    "    if name in adressbuch:\n",
    "        print(f\"Name: {name}, Telefon: {adressbuch[name]['Telefon']}, E-Mail: {adressbuch[name]['E-Mail']}\")\n",
    "    else:\n",
    "        print(\"Eintrag nicht gefunden.\")\n",
    "\n",
    "def eintrag_aktualisieren():\n",
    "    \"\"\"TODO: Funktion zur Aktualisierung eines bestehenden Eintrags ergänzen\"\"\"\n",
    "    name = input(\"Geben Sie den Namen ein, der aktualisiert werden soll: \")\n",
    "    if name in adressbuch:\n",
    "        telefon = input(\"Telefonnummer: \")\n",
    "        email = input(\"E-Mail-Adresse: \")\n",
    "        adressbuch[name] = {\"Telefon\": telefon, \"E-Mail\": email}\n",
    "        print(f\"Eintrag für {name} wurde geändert.\")\n",
    "    else:\n",
    "        print(\"Dieser Eintrag ist nicht im Adressbuch\")\n",
    "\n",
    "def eintrag_loeschen():\n",
    "    \"\"\"TODO: Funktion zum Löschen eines Eintrags ergänzen\"\"\"\n",
    "    name = input(\"Geben Sie den Namen ein, den Sie löschen wollen: \")\n",
    "    if name in adressbuch:\n",
    "        del adressbuch[name]\n",
    "        print(f\"Eintrag für {name} wurde gelöscht.\")\n",
    "    else:\n",
    "        print(\"Dieser Eintrag existiert im Adressbuch nicht.\")\n",
    "        return\n",
    "\n",
    "def alle_eintraege_anzeigen():\n",
    "    \"\"\"Funktion zur Anzeige aller Einträge\"\"\"\n",
    "    if not adressbuch:\n",
    "        print(\"Das Adressbuch ist leer.\")\n",
    "    else:\n",
    "        for name, details in adressbuch.items():\n",
    "            print(f\"Name: {name}, Telefon: {details['Telefon']}, E-Mail: {details['E-Mail']}\")\n",
    "\n",
    "def menue():\n",
    "    while True:\n",
    "        print(\"\\nAdressbuch\")\n",
    "        print(\"1: Eintrag hinzufügen\")\n",
    "        print(\"2: Eintrag suchen\")\n",
    "        print(\"3: Eintrag aktualisieren\")\n",
    "        print(\"4: Eintrag löschen\")\n",
    "        print(\"5: Alle Einträge anzeigen\")\n",
    "        print(\"6: Beenden\")\n",
    "        auswahl = input(\"Wählen Sie eine Option: \")\n",
    "\n",
    "        if auswahl == \"1\":\n",
    "            eintrag_hinzufuegen()\n",
    "        elif auswahl == \"2\":\n",
    "            eintrag_suchen()\n",
    "        elif auswahl == \"3\":\n",
    "            eintrag_aktualisieren()\n",
    "        elif auswahl == \"4\":\n",
    "            eintrag_loeschen()\n",
    "        elif auswahl == \"5\":\n",
    "            alle_eintraege_anzeigen()\n",
    "        elif auswahl == \"6\":\n",
    "            break\n",
    "        else:\n",
    "            print(\"Ungültige Eingabe, bitte erneut versuchen.\")\n",
    "\n"
   ]
  },
  {
   "cell_type": "code",
   "execution_count": null,
   "metadata": {
    "id": "qZmRgToq3H7R"
   },
   "outputs": [
    {
     "name": "stdout",
     "output_type": "stream",
     "text": [
      "\n",
      "Adressbuch\n",
      "1: Eintrag hinzufügen\n",
      "2: Eintrag suchen\n",
      "3: Eintrag aktualisieren\n",
      "4: Eintrag löschen\n",
      "5: Alle Einträge anzeigen\n",
      "6: Beenden\n"
     ]
    },
    {
     "name": "stdin",
     "output_type": "stream",
     "text": [
      "Wählen Sie eine Option:  1\n",
      "Name eingeben:  nico hiebl\n",
      "Telefon 123123\n",
      "E-Mail haha.com\n"
     ]
    },
    {
     "name": "stdout",
     "output_type": "stream",
     "text": [
      "Eintrag nico hiebl wurde hinzugefügt.\n",
      "\n",
      "Adressbuch\n",
      "1: Eintrag hinzufügen\n",
      "2: Eintrag suchen\n",
      "3: Eintrag aktualisieren\n",
      "4: Eintrag löschen\n",
      "5: Alle Einträge anzeigen\n",
      "6: Beenden\n"
     ]
    },
    {
     "name": "stdin",
     "output_type": "stream",
     "text": [
      "Wählen Sie eine Option:  3\n",
      "Geben Sie den Namen ein, der aktualisiert werden soll:  nico hiebl\n",
      "Telefonnummer:  123456\n",
      "E-Mail-Adresse:  richtige.email.com\n"
     ]
    },
    {
     "name": "stdout",
     "output_type": "stream",
     "text": [
      "Eintrag für nico hiebl wurde geändert.\n",
      "\n",
      "Adressbuch\n",
      "1: Eintrag hinzufügen\n",
      "2: Eintrag suchen\n",
      "3: Eintrag aktualisieren\n",
      "4: Eintrag löschen\n",
      "5: Alle Einträge anzeigen\n",
      "6: Beenden\n"
     ]
    },
    {
     "name": "stdin",
     "output_type": "stream",
     "text": [
      "Wählen Sie eine Option:  5\n"
     ]
    },
    {
     "name": "stdout",
     "output_type": "stream",
     "text": [
      "Name: nico hiebl, Telefon: 123456, E-Mail: richtige.email.com\n",
      "\n",
      "Adressbuch\n",
      "1: Eintrag hinzufügen\n",
      "2: Eintrag suchen\n",
      "3: Eintrag aktualisieren\n",
      "4: Eintrag löschen\n",
      "5: Alle Einträge anzeigen\n",
      "6: Beenden\n"
     ]
    }
   ],
   "source": [
    "# Menü starten\n",
    "menue()"
   ]
  },
  {
   "cell_type": "code",
   "execution_count": null,
   "metadata": {},
   "outputs": [],
   "source": []
  }
 ],
 "metadata": {
  "colab": {
   "authorship_tag": "ABX9TyPZksQ1hR9p5I2AB9srFYKt",
   "provenance": []
  },
  "kernelspec": {
   "display_name": "Python 3 (ipykernel)",
   "language": "python",
   "name": "python3"
  },
  "language_info": {
   "codemirror_mode": {
    "name": "ipython",
    "version": 3
   },
   "file_extension": ".py",
   "mimetype": "text/x-python",
   "name": "python",
   "nbconvert_exporter": "python",
   "pygments_lexer": "ipython3",
   "version": "3.12.7"
  }
 },
 "nbformat": 4,
 "nbformat_minor": 4
}
