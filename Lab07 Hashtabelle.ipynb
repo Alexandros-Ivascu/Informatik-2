{
 "cells": [
  {
   "cell_type": "markdown",
   "metadata": {
    "id": "mKqYxryzDJjM"
   },
   "source": [
    "# INF2 07 Hashtabelle\n",
    "In dieser Übung implementieren Sie eine Hashtabelle mit Chaining zur Kollisionsbehandlung."
   ]
  },
  {
   "cell_type": "code",
   "execution_count": 29,
   "metadata": {
    "executionInfo": {
     "elapsed": 9,
     "status": "ok",
     "timestamp": 1747118044992,
     "user": {
      "displayName": "Tobias Schaffer",
      "userId": "09009542802022320095"
     },
     "user_tz": -120
    },
    "id": "9FnXSts9DJpE"
   },
   "outputs": [],
   "source": [
    "class HashTable:\n",
    "    def __init__(self, size):\n",
    "        self.size = size\n",
    "        self.table = [[] for _ in range(size)]\n",
    "\n",
    "    def hash(self, key):\n",
    "        return hash(key) % self.size\n",
    "\n",
    "    def insert(self, key, value):\n",
    "        index = self.hash(key)    # Index holen\n",
    "        for e in self.table[index]:    # Prüfen und überschreiben falls key schon drin ist\n",
    "            if e[0] == key:\n",
    "                e[1] = value\n",
    "                return\n",
    "        self.table[index].append([key, value])    # Tabellenplatz bei berechneten Index (ist selbst Liste)\n",
    "\n",
    "    def get(self, key):\n",
    "        index = self.hash(key)\n",
    "        current = self.table[index]\n",
    "        while current:\n",
    "            if current.key == key:\n",
    "                return current.value\n",
    "            current = current.next\n",
    "        raise KeyError(f\"There is no {key} in the collection.\")\n",
    "\n",
    "    def remove(self, key):\n",
    "        # TODO\n",
    "        return\n",
    "\n",
    "    def clear(self):\n",
    "        self.table = [[] for _ in range(self.size)]\n",
    "        return\n",
    "\n",
    "    def __repr__(self):\n",
    "        return str(self.table)\n"
   ]
  },
  {
   "cell_type": "markdown",
   "metadata": {
    "id": "NSyO1M-RDL7E"
   },
   "source": [
    "### Testfälle"
   ]
  },
  {
   "cell_type": "code",
   "execution_count": 30,
   "metadata": {
    "colab": {
     "base_uri": "https://localhost:8080/"
    },
    "executionInfo": {
     "elapsed": 23,
     "status": "ok",
     "timestamp": 1747118045017,
     "user": {
      "displayName": "Tobias Schaffer",
      "userId": "09009542802022320095"
     },
     "user_tz": -120
    },
    "id": "BZ1WnOwcDKQ1",
    "outputId": "0a36dacc-a61e-4c81-8042-207e807a35ef"
   },
   "outputs": [
    {
     "name": "stdout",
     "output_type": "stream",
     "text": [
      "[[], [], [], [], [], [], [], [], [], []]\n",
      "[[['Apfel', 1]], [], [], [], [], [], [], [], [], [['Banane', 2], ['Zitrone', 3]]]\n",
      "[[['Apfel', 4]], [], [], [], [], [], [], [], [], [['Banane', 2], ['Zitrone', 3]]]\n"
     ]
    },
    {
     "ename": "AttributeError",
     "evalue": "'list' object has no attribute 'key'",
     "output_type": "error",
     "traceback": [
      "\u001b[1;31m---------------------------------------------------------------------------\u001b[0m",
      "\u001b[1;31mAttributeError\u001b[0m                            Traceback (most recent call last)",
      "Cell \u001b[1;32mIn[30], line 16\u001b[0m\n\u001b[0;32m     13\u001b[0m \u001b[38;5;28mprint\u001b[39m(ht)\n\u001b[0;32m     15\u001b[0m \u001b[38;5;66;03m# Auslesen\u001b[39;00m\n\u001b[1;32m---> 16\u001b[0m \u001b[38;5;28mprint\u001b[39m(ht\u001b[38;5;241m.\u001b[39mget(\u001b[38;5;124m\"\u001b[39m\u001b[38;5;124mApfel\u001b[39m\u001b[38;5;124m\"\u001b[39m))  \u001b[38;5;66;03m# Erwartet: 4\u001b[39;00m\n\u001b[0;32m     18\u001b[0m \u001b[38;5;66;03m# Entfernen\u001b[39;00m\n\u001b[0;32m     19\u001b[0m ht\u001b[38;5;241m.\u001b[39mremove(\u001b[38;5;124m\"\u001b[39m\u001b[38;5;124mBanane\u001b[39m\u001b[38;5;124m\"\u001b[39m)\n",
      "Cell \u001b[1;32mIn[29], line 21\u001b[0m, in \u001b[0;36mHashTable.get\u001b[1;34m(self, key)\u001b[0m\n\u001b[0;32m     19\u001b[0m current \u001b[38;5;241m=\u001b[39m \u001b[38;5;28mself\u001b[39m\u001b[38;5;241m.\u001b[39mtable[index]\n\u001b[0;32m     20\u001b[0m \u001b[38;5;28;01mwhile\u001b[39;00m current:\n\u001b[1;32m---> 21\u001b[0m     \u001b[38;5;28;01mif\u001b[39;00m current\u001b[38;5;241m.\u001b[39mkey \u001b[38;5;241m==\u001b[39m key:\n\u001b[0;32m     22\u001b[0m         \u001b[38;5;28;01mreturn\u001b[39;00m current\u001b[38;5;241m.\u001b[39mvalue\n\u001b[0;32m     23\u001b[0m     current \u001b[38;5;241m=\u001b[39m current\u001b[38;5;241m.\u001b[39mnext\n",
      "\u001b[1;31mAttributeError\u001b[0m: 'list' object has no attribute 'key'"
     ]
    }
   ],
   "source": [
    "# Erzeuge neue Hashtabelle der Länge 10\n",
    "ht = HashTable(10)\n",
    "print(ht)\n",
    "\n",
    "# Einfügen\n",
    "ht.insert(\"Apfel\", 1)\n",
    "ht.insert(\"Banane\", 2)\n",
    "ht.insert(\"Zitrone\", 3)\n",
    "print(ht)\n",
    "\n",
    "# Überschreiben\n",
    "ht.insert(\"Apfel\", 4)\n",
    "print(ht)\n",
    "\n",
    "# Auslesen\n",
    "print(ht.get(\"Apfel\"))  # Erwartet: 4\n",
    "\n",
    "# Entfernen\n",
    "ht.remove(\"Banane\")\n",
    "print(ht.get(\"Banane\"))  # Erwartet: None\n",
    "print(ht)\n",
    "\n",
    "# Verkettung\n",
    "ht.insert(\"Orange\", 5)\n",
    "ht.insert(\"Erdbeere\", 6)  # Erwartet: Kollision und Verkettung\n",
    "print(ht)\n",
    "print(ht.get(\"Erdbeere\"))  # Erwartet: 6"
   ]
  },
  {
   "cell_type": "code",
   "execution_count": null,
   "metadata": {},
   "outputs": [],
   "source": []
  }
 ],
 "metadata": {
  "colab": {
   "authorship_tag": "ABX9TyOkyYNTsXuJ23wPm0q3a9QH",
   "provenance": []
  },
  "kernelspec": {
   "display_name": "Python 3 (ipykernel)",
   "language": "python",
   "name": "python3"
  },
  "language_info": {
   "codemirror_mode": {
    "name": "ipython",
    "version": 3
   },
   "file_extension": ".py",
   "mimetype": "text/x-python",
   "name": "python",
   "nbconvert_exporter": "python",
   "pygments_lexer": "ipython3",
   "version": "3.12.7"
  }
 },
 "nbformat": 4,
 "nbformat_minor": 4
}
