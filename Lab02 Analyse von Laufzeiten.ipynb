{
 "cells": [
  {
   "cell_type": "code",
   "execution_count": 39,
   "metadata": {},
   "outputs": [],
   "source": [
    "import random\n",
    "size = 10\n",
    "arr = random.sample(range(size * 10), size)"
   ]
  },
  {
   "cell_type": "code",
   "execution_count": 40,
   "metadata": {},
   "outputs": [
    {
     "data": {
      "text/plain": [
       "[33, 35, 96, 59, 3, 85, 88, 77, 67, 7]"
      ]
     },
     "execution_count": 40,
     "metadata": {},
     "output_type": "execute_result"
    }
   ],
   "source": [
    "arr"
   ]
  },
  {
   "cell_type": "code",
   "execution_count": 41,
   "metadata": {},
   "outputs": [
    {
     "data": {
      "text/plain": [
       "10"
      ]
     },
     "execution_count": 41,
     "metadata": {},
     "output_type": "execute_result"
    }
   ],
   "source": [
    "len(arr)"
   ]
  },
  {
   "cell_type": "code",
   "execution_count": 38,
   "metadata": {
    "colab": {
     "base_uri": "https://localhost:8080/",
     "height": 599
    },
    "executionInfo": {
     "elapsed": 744,
     "status": "ok",
     "timestamp": 1742904302942,
     "user": {
      "displayName": "Tobias Schaffer",
      "userId": "09009542802022320095"
     },
     "user_tz": -60
    },
    "id": "1RfGb6jpuW0p",
    "outputId": "7192d1e9-f5a8-4535-fc99-c79e2fa5700e"
   },
   "outputs": [
    {
     "name": "stderr",
     "output_type": "stream",
     "text": [
      "C:\\Users\\alexandros.iv\\AppData\\Local\\Temp\\ipykernel_5208\\766207620.py:53: UserWarning: No artists with labels found to put in legend.  Note that artists whose label start with an underscore are ignored when legend() is called with no argument.\n",
      "  plt.legend()\n"
     ]
    },
    {
     "data": {
      "image/png": "[encoded data removed]",
      "text/plain": [
       "<Figure size 800x600 with 1 Axes>"
      ]
     },
     "metadata": {},
     "output_type": "display_data"
    }
   ],
   "source": [
    "import timeit\n",
    "import matplotlib.pyplot as plt\n",
    "import random\n",
    "\n",
    "def linear_search(arr, target):\n",
    "    for i in len(arr):\n",
    "        if arr[i] == target:\n",
    "            return i\n",
    "        return -1\n",
    "     # TODO:\n",
    "     # Implementieren Sie die lineare Suche\n",
    "     # -1 ausgeben, falls Suche nicht erfolgreich\n",
    "    pass\n",
    "\n",
    "def binary_search(arr, target):\n",
    "    left, right = 0, len(arr) - 1\n",
    "    while left <= right :\n",
    "        middle = (left + right) // 2\n",
    "        if arr [middle] == target :\n",
    "            return middel\n",
    "        elif arr [middle] < target :\n",
    "            left = middle + 1\n",
    "        else :\n",
    "            right = middle - 1\n",
    "    return -1\n",
    "     # TODO:\n",
    "     # Implementieren Sie die binäre Suche\n",
    "     # -1 ausgeben, falls Suche nicht erfolgreich\n",
    "    pass\n",
    "\n",
    "def measure_time(func, arr, *args):\n",
    "    return timeit.timeit(lambda: func(arr, *args), number=10)\n",
    "\n",
    "sizes = [100, 200, 500, 1000, 2000]\n",
    "linear_times = []\n",
    "binary_times = []\n",
    "\n",
    "for size in sizes:\n",
    "    arr = random.sample(range(size * 10), size)\n",
    "    sorted_arr = sorted(arr)\n",
    "    target = arr[random.randint(0, size - 1)]\n",
    "    # TODO: Aktivieren Sie die folgenden Zeilen nach Implementierung der Suchalgorithmen\n",
    "    # linear_times.append(measure_time(linear_search, arr, target))\n",
    "    # binary_times.append(measure_time(binary_search, sorted_arr, target))\n",
    "\n",
    "plt.figure(figsize=(8, 6))\n",
    "# TODO: Aktivieren Sie die folgenden Zeilen nach Implementierung der Suchalgorithmen\n",
    "#plt.plot(sizes, linear_times, label='Linear Search', marker='o')\n",
    "#plt.plot(sizes, binary_times, label='Binary Search', marker='s')\n",
    "plt.xlabel(\"Input Size\")\n",
    "plt.ylabel(\"Time (s)\")\n",
    "plt.title(\"Search Algorithm Performance Analysis\")\n",
    "plt.legend()\n",
    "plt.grid()\n",
    "plt.show()\n"
   ]
  },
  {
   "cell_type": "code",
   "execution_count": null,
   "metadata": {
    "id": "kR0sEJrZv1BQ"
   },
   "outputs": [],
   "source": []
  }
 ],
 "metadata": {
  "colab": {
   "authorship_tag": "ABX9TyOwCh3W8/Z9Lqd/ePXHho7r",
   "provenance": []
  },
  "kernelspec": {
   "display_name": "Python 3 (ipykernel)",
   "language": "python",
   "name": "python3"
  },
  "language_info": {
   "codemirror_mode": {
    "name": "ipython",
    "version": 3
   },
   "file_extension": ".py",
   "mimetype": "text/x-python",
   "name": "python",
   "nbconvert_exporter": "python",
   "pygments_lexer": "ipython3",
   "version": "3.12.7"
  }
 },
 "nbformat": 4,
 "nbformat_minor": 4
}
