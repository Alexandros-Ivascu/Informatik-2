{
 "cells": [
  {
   "cell_type": "code",
   "execution_count": 68,
   "metadata": {
    "id": "i-wAbCzeHjCa"
   },
   "outputs": [
    {
     "name": "stdout",
     "output_type": "stream",
     "text": [
      "Rekursive Fibonacci (30): 0.1691215000 Sekunden\n",
      "Iterative Fibonacci (30): 0.0000049000 Sekunden\n",
      "Memoized Fibonacci (30): 0.0000011000 Sekunden\n"
     ]
    }
   ],
   "source": [
    "# Fibonacci-Folge: Rekursive vs. Iterative Implementierung\n",
    "\n",
    "import timeit\n",
    "\n",
    "def fibonacci_rekursiv(n):\n",
    "    \"\"\"TODO: Implementieren Sie die rekursive Berechnung der Fibonacci-Zahl\"\"\"\n",
    "    if n == 0:\n",
    "        return 0\n",
    "    if n == 1:\n",
    "        return 1\n",
    "    if n >= 2:\n",
    "     return fibonacci_rekursiv(n - 1) + fibonacci_rekursiv(n - 2)\n",
    "\n",
    "def fibonacci_iterativ(n):\n",
    "    \"\"\"TODO: Implementieren Sie die iterative Berechnung der Fibonacci-Zahl\"\"\"\n",
    "    ergebnis = 1\n",
    "    temp1 = 0\n",
    "    temp2 = 0\n",
    "    for i in range (1 , n):\n",
    "        temp1 = ergebnis\n",
    "        ergebnis = ergebnis + temp2\n",
    "        temp2 = temp1\n",
    "    return ergebnis\n",
    "    \n",
    "\n",
    "\n",
    "\n",
    "def fibonacci_rek_memo(n, speicher={}):\n",
    "    \"\"\"TODO: Implementieren Sie die optimierte rekursive Berechnung mit Memoization\"\"\"\n",
    "    return\n",
    "\n",
    "# Laufzeitmessung\n",
    "n = 30\n",
    "print(f\"Rekursive Fibonacci ({n}): {timeit.timeit(lambda: fibonacci_rekursiv(n), number=1):.10f} Sekunden\")\n",
    "print(f\"Iterative Fibonacci ({n}): {timeit.timeit(lambda: fibonacci_iterativ(n), number=1):.10f} Sekunden\")\n",
    "print(f\"Memoized Fibonacci ({n}): {timeit.timeit(lambda: fibonacci_rek_memo(n), number=1):.10f} Sekunden\")\n"
   ]
  },
  {
   "cell_type": "code",
   "execution_count": 69,
   "metadata": {
    "id": "-Vdcutq6Hu5G"
   },
   "outputs": [
    {
     "data": {
      "text/plain": [
       "13"
      ]
     },
     "execution_count": 69,
     "metadata": {},
     "output_type": "execute_result"
    }
   ],
   "source": [
    "fibonacci_rekursiv(7)"
   ]
  },
  {
   "cell_type": "code",
   "execution_count": 74,
   "metadata": {},
   "outputs": [
    {
     "data": {
      "text/plain": [
       "3"
      ]
     },
     "execution_count": 74,
     "metadata": {},
     "output_type": "execute_result"
    }
   ],
   "source": [
    "fibonacci_iterativ(4)"
   ]
  },
  {
   "cell_type": "code",
   "execution_count": 58,
   "metadata": {},
   "outputs": [
    {
     "data": {
      "text/plain": [
       "6"
      ]
     },
     "execution_count": 58,
     "metadata": {},
     "output_type": "execute_result"
    }
   ],
   "source": [
    "fakultaet_iterativ (3)"
   ]
  },
  {
   "cell_type": "code",
   "execution_count": null,
   "metadata": {},
   "outputs": [],
   "source": []
  }
 ],
 "metadata": {
  "colab": {
   "authorship_tag": "ABX9TyOpiM738+6zrROp0wzGNTyF",
   "provenance": []
  },
  "kernelspec": {
   "display_name": "Python 3 (ipykernel)",
   "language": "python",
   "name": "python3"
  },
  "language_info": {
   "codemirror_mode": {
    "name": "ipython",
    "version": 3
   },
   "file_extension": ".py",
   "mimetype": "text/x-python",
   "name": "python",
   "nbconvert_exporter": "python",
   "pygments_lexer": "ipython3",
   "version": "3.12.7"
  }
 },
 "nbformat": 4,
 "nbformat_minor": 4
}
